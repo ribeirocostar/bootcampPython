{
 "metadata": {
  "language_info": {
   "codemirror_mode": {
    "name": "ipython",
    "version": 3
   },
   "file_extension": ".py",
   "mimetype": "text/x-python",
   "name": "python",
   "nbconvert_exporter": "python",
   "pygments_lexer": "ipython3",
   "version": "3.8.5-final"
  },
  "orig_nbformat": 2,
  "kernelspec": {
   "name": "Python 3.8.5 64-bit ('.venv')",
   "display_name": "Python 3.8.5 64-bit ('.venv')",
   "metadata": {
    "interpreter": {
     "hash": "07019346862137c1346fb748f786c3078e5aacc28fdf845cf79aef99a343b250"
    }
   }
  }
 },
 "nbformat": 4,
 "nbformat_minor": 2,
 "cells": [
  {
   "cell_type": "code",
   "execution_count": 3,
   "metadata": {},
   "outputs": [],
   "source": [
    "import numpy as np\n",
    "import pandas as pd"
   ]
  },
  {
   "cell_type": "code",
   "execution_count": 4,
   "metadata": {},
   "outputs": [
    {
     "output_type": "execute_result",
     "data": {
      "text/plain": [
       "         datetime  rec_id  season  year  month  hour  is_holiday  weekday  \\\n",
       "0      2011-01-01       1       1     0      1     0           0        6   \n",
       "1      2011-01-01       2       1     0      1     1           0        6   \n",
       "2      2011-01-01       3       1     0      1     2           0        6   \n",
       "3      2011-01-01       4       1     0      1     3           0        6   \n",
       "4      2011-01-01       5       1     0      1     4           0        6   \n",
       "...           ...     ...     ...   ...    ...   ...         ...      ...   \n",
       "17374  2012-12-31   17375       1     1     12    19           0        1   \n",
       "17375  2012-12-31   17376       1     1     12    20           0        1   \n",
       "17376  2012-12-31   17377       1     1     12    21           0        1   \n",
       "17377  2012-12-31   17378       1     1     12    22           0        1   \n",
       "17378  2012-12-31   17379       1     1     12    23           0        1   \n",
       "\n",
       "       is_workingday  weather_condition  temp   atemp  humidity  windspeed  \\\n",
       "0                  0                  1  0.24  0.2879      0.81     0.0000   \n",
       "1                  0                  1  0.22  0.2727      0.80     0.0000   \n",
       "2                  0                  1  0.22  0.2727      0.80     0.0000   \n",
       "3                  0                  1  0.24  0.2879      0.75     0.0000   \n",
       "4                  0                  1  0.24  0.2879      0.75     0.0000   \n",
       "...              ...                ...   ...     ...       ...        ...   \n",
       "17374              1                  2  0.26  0.2576      0.60     0.1642   \n",
       "17375              1                  2  0.26  0.2576      0.60     0.1642   \n",
       "17376              1                  1  0.26  0.2576      0.60     0.1642   \n",
       "17377              1                  1  0.26  0.2727      0.56     0.1343   \n",
       "17378              1                  1  0.26  0.2727      0.65     0.1343   \n",
       "\n",
       "       casual  registered  total_count  \n",
       "0           3          13           16  \n",
       "1           8          32           40  \n",
       "2           5          27           32  \n",
       "3           3          10           13  \n",
       "4           0           1            1  \n",
       "...       ...         ...          ...  \n",
       "17374      11         108          119  \n",
       "17375       8          81           89  \n",
       "17376       7          83           90  \n",
       "17377      13          48           61  \n",
       "17378      12          37           49  \n",
       "\n",
       "[17379 rows x 17 columns]"
      ],
      "text/html": "<div>\n<style scoped>\n    .dataframe tbody tr th:only-of-type {\n        vertical-align: middle;\n    }\n\n    .dataframe tbody tr th {\n        vertical-align: top;\n    }\n\n    .dataframe thead th {\n        text-align: right;\n    }\n</style>\n<table border=\"1\" class=\"dataframe\">\n  <thead>\n    <tr style=\"text-align: right;\">\n      <th></th>\n      <th>datetime</th>\n      <th>rec_id</th>\n      <th>season</th>\n      <th>year</th>\n      <th>month</th>\n      <th>hour</th>\n      <th>is_holiday</th>\n      <th>weekday</th>\n      <th>is_workingday</th>\n      <th>weather_condition</th>\n      <th>temp</th>\n      <th>atemp</th>\n      <th>humidity</th>\n      <th>windspeed</th>\n      <th>casual</th>\n      <th>registered</th>\n      <th>total_count</th>\n    </tr>\n  </thead>\n  <tbody>\n    <tr>\n      <th>0</th>\n      <td>2011-01-01</td>\n      <td>1</td>\n      <td>1</td>\n      <td>0</td>\n      <td>1</td>\n      <td>0</td>\n      <td>0</td>\n      <td>6</td>\n      <td>0</td>\n      <td>1</td>\n      <td>0.24</td>\n      <td>0.2879</td>\n      <td>0.81</td>\n      <td>0.0000</td>\n      <td>3</td>\n      <td>13</td>\n      <td>16</td>\n    </tr>\n    <tr>\n      <th>1</th>\n      <td>2011-01-01</td>\n      <td>2</td>\n      <td>1</td>\n      <td>0</td>\n      <td>1</td>\n      <td>1</td>\n      <td>0</td>\n      <td>6</td>\n      <td>0</td>\n      <td>1</td>\n      <td>0.22</td>\n      <td>0.2727</td>\n      <td>0.80</td>\n      <td>0.0000</td>\n      <td>8</td>\n      <td>32</td>\n      <td>40</td>\n    </tr>\n    <tr>\n      <th>2</th>\n      <td>2011-01-01</td>\n      <td>3</td>\n      <td>1</td>\n      <td>0</td>\n      <td>1</td>\n      <td>2</td>\n      <td>0</td>\n      <td>6</td>\n      <td>0</td>\n      <td>1</td>\n      <td>0.22</td>\n      <td>0.2727</td>\n      <td>0.80</td>\n      <td>0.0000</td>\n      <td>5</td>\n      <td>27</td>\n      <td>32</td>\n    </tr>\n    <tr>\n      <th>3</th>\n      <td>2011-01-01</td>\n      <td>4</td>\n      <td>1</td>\n      <td>0</td>\n      <td>1</td>\n      <td>3</td>\n      <td>0</td>\n      <td>6</td>\n      <td>0</td>\n      <td>1</td>\n      <td>0.24</td>\n      <td>0.2879</td>\n      <td>0.75</td>\n      <td>0.0000</td>\n      <td>3</td>\n      <td>10</td>\n      <td>13</td>\n    </tr>\n    <tr>\n      <th>4</th>\n      <td>2011-01-01</td>\n      <td>5</td>\n      <td>1</td>\n      <td>0</td>\n      <td>1</td>\n      <td>4</td>\n      <td>0</td>\n      <td>6</td>\n      <td>0</td>\n      <td>1</td>\n      <td>0.24</td>\n      <td>0.2879</td>\n      <td>0.75</td>\n      <td>0.0000</td>\n      <td>0</td>\n      <td>1</td>\n      <td>1</td>\n    </tr>\n    <tr>\n      <th>...</th>\n      <td>...</td>\n      <td>...</td>\n      <td>...</td>\n      <td>...</td>\n      <td>...</td>\n      <td>...</td>\n      <td>...</td>\n      <td>...</td>\n      <td>...</td>\n      <td>...</td>\n      <td>...</td>\n      <td>...</td>\n      <td>...</td>\n      <td>...</td>\n      <td>...</td>\n      <td>...</td>\n      <td>...</td>\n    </tr>\n    <tr>\n      <th>17374</th>\n      <td>2012-12-31</td>\n      <td>17375</td>\n      <td>1</td>\n      <td>1</td>\n      <td>12</td>\n      <td>19</td>\n      <td>0</td>\n      <td>1</td>\n      <td>1</td>\n      <td>2</td>\n      <td>0.26</td>\n      <td>0.2576</td>\n      <td>0.60</td>\n      <td>0.1642</td>\n      <td>11</td>\n      <td>108</td>\n      <td>119</td>\n    </tr>\n    <tr>\n      <th>17375</th>\n      <td>2012-12-31</td>\n      <td>17376</td>\n      <td>1</td>\n      <td>1</td>\n      <td>12</td>\n      <td>20</td>\n      <td>0</td>\n      <td>1</td>\n      <td>1</td>\n      <td>2</td>\n      <td>0.26</td>\n      <td>0.2576</td>\n      <td>0.60</td>\n      <td>0.1642</td>\n      <td>8</td>\n      <td>81</td>\n      <td>89</td>\n    </tr>\n    <tr>\n      <th>17376</th>\n      <td>2012-12-31</td>\n      <td>17377</td>\n      <td>1</td>\n      <td>1</td>\n      <td>12</td>\n      <td>21</td>\n      <td>0</td>\n      <td>1</td>\n      <td>1</td>\n      <td>1</td>\n      <td>0.26</td>\n      <td>0.2576</td>\n      <td>0.60</td>\n      <td>0.1642</td>\n      <td>7</td>\n      <td>83</td>\n      <td>90</td>\n    </tr>\n    <tr>\n      <th>17377</th>\n      <td>2012-12-31</td>\n      <td>17378</td>\n      <td>1</td>\n      <td>1</td>\n      <td>12</td>\n      <td>22</td>\n      <td>0</td>\n      <td>1</td>\n      <td>1</td>\n      <td>1</td>\n      <td>0.26</td>\n      <td>0.2727</td>\n      <td>0.56</td>\n      <td>0.1343</td>\n      <td>13</td>\n      <td>48</td>\n      <td>61</td>\n    </tr>\n    <tr>\n      <th>17378</th>\n      <td>2012-12-31</td>\n      <td>17379</td>\n      <td>1</td>\n      <td>1</td>\n      <td>12</td>\n      <td>23</td>\n      <td>0</td>\n      <td>1</td>\n      <td>1</td>\n      <td>1</td>\n      <td>0.26</td>\n      <td>0.2727</td>\n      <td>0.65</td>\n      <td>0.1343</td>\n      <td>12</td>\n      <td>37</td>\n      <td>49</td>\n    </tr>\n  </tbody>\n</table>\n<p>17379 rows × 17 columns</p>\n</div>"
     },
     "metadata": {},
     "execution_count": 4
    }
   ],
   "source": [
    "df = pd.read_csv(\"https://pycourse.s3.amazonaws.com/bike-sharing.csv\")\n",
    "df"
   ]
  },
  {
   "cell_type": "code",
   "execution_count": 5,
   "metadata": {},
   "outputs": [
    {
     "output_type": "execute_result",
     "data": {
      "text/plain": [
       "(17379, 17)"
      ]
     },
     "metadata": {},
     "execution_count": 5
    }
   ],
   "source": [
    "df.shape"
   ]
  },
  {
   "cell_type": "code",
   "execution_count": 81,
   "metadata": {},
   "outputs": [
    {
     "output_type": "stream",
     "name": "stdout",
     "text": [
      "0.1900976\n0.4969872\n"
     ]
    }
   ],
   "source": [
    "\n",
    "print(\"{:.7f}\".format(df.windspeed.mean()))\n",
    "print(\"{:.7f}\".format(df.temp.mean()))"
   ]
  },
  {
   "cell_type": "code",
   "execution_count": 82,
   "metadata": {},
   "outputs": [],
   "source": [
    "df['datetime'] = pd.to_datetime(df['datetime'])\n",
    "#df.dtypes"
   ]
  },
  {
   "cell_type": "code",
   "execution_count": 83,
   "metadata": {},
   "outputs": [],
   "source": [
    "years = df[\"datetime\"].dt.year\n",
    "#print(years)"
   ]
  },
  {
   "cell_type": "code",
   "execution_count": 42,
   "metadata": {},
   "outputs": [
    {
     "output_type": "stream",
     "name": "stdout",
     "text": [
      "(8645, 17) (8734, 17)\n"
     ]
    }
   ],
   "source": [
    "print(df.loc[years==2011].shape,\n",
    "df.loc[years==2012].shape)\n"
   ]
  },
  {
   "cell_type": "code",
   "execution_count": 40,
   "metadata": {},
   "outputs": [
    {
     "output_type": "execute_result",
     "data": {
      "text/plain": [
       "datetime\n",
       "2011    1243103\n",
       "2012    2049576\n",
       "Name: total_count, dtype: int64"
      ]
     },
     "metadata": {},
     "execution_count": 40
    }
   ],
   "source": [
    "df.groupby(by=years).sum().total_count\n"
   ]
  },
  {
   "cell_type": "code",
   "execution_count": 61,
   "metadata": {},
   "outputs": [
    {
     "output_type": "stream",
     "name": "stdout",
     "text": [
      "3\n1\n"
     ]
    }
   ],
   "source": [
    "seasons = df.groupby(by='season').total_count.mean()\n",
    "print(seasons.idxmax())\n",
    "print(seasons.idxmin())"
   ]
  },
  {
   "cell_type": "code",
   "execution_count": 65,
   "metadata": {},
   "outputs": [
    {
     "output_type": "stream",
     "name": "stdout",
     "text": [
      "17\n4\n"
     ]
    }
   ],
   "source": [
    "hours = df.groupby(by='hour').total_count.mean()\n",
    "#hours\n",
    "print(hours.idxmax())\n",
    "print(hours.idxmin())   "
   ]
  },
  {
   "cell_type": "code",
   "execution_count": 70,
   "metadata": {},
   "outputs": [
    {
     "output_type": "stream",
     "name": "stdout",
     "text": [
      "4\n0\n"
     ]
    }
   ],
   "source": [
    "weeks = df.groupby(by='weekday').total_count.mean()\n",
    "#weeks\n",
    "print(weeks.idxmax())\n",
    "print(weeks.idxmin())   "
   ]
  },
  {
   "cell_type": "code",
   "execution_count": 76,
   "metadata": {},
   "outputs": [
    {
     "output_type": "stream",
     "name": "stdout",
     "text": [
      "17\n3\n"
     ]
    }
   ],
   "source": [
    "wends = df[df.weekday==3]\n",
    "w_hours = wends.groupby(by='hour').total_count.mean()\n",
    "#w_hours\n",
    "print(w_hours.idxmax())\n",
    "print(w_hours.idxmin())    "
   ]
  },
  {
   "cell_type": "code",
   "execution_count": 79,
   "metadata": {},
   "outputs": [
    {
     "output_type": "stream",
     "name": "stdout",
     "text": [
      "13\n4\n"
     ]
    }
   ],
   "source": [
    "sat = df[df.weekday==6]\n",
    "w_sat = sat.groupby(by='hour').total_count.mean()\n",
    "#w_sat\n",
    "print(w_sat.idxmax())\n",
    "print(w_sat.idxmin())   "
   ]
  }
 ]
}