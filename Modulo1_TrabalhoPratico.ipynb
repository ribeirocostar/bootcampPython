{
  "nbformat": 4,
  "nbformat_minor": 0,
  "metadata": {
    "colab": {
      "name": "Untitled0.ipynb",
      "provenance": [],
      "authorship_tag": "ABX9TyPD2nY7PR6jBa+iRP9F0ltc",
      "include_colab_link": true
    },
    "kernelspec": {
      "name": "python3",
      "display_name": "Python 3"
    }
  },
  "cells": [
    {
      "cell_type": "markdown",
      "metadata": {
        "id": "view-in-github",
        "colab_type": "text"
      },
      "source": [
        "<a href=\"https://colab.research.google.com/github/ribeirocostar/bootcampPython/blob/master/Modulo1_TrabalhoPratico.ipynb\" target=\"_parent\"><img src=\"https://colab.research.google.com/assets/colab-badge.svg\" alt=\"Open In Colab\"/></a>"
      ]
    },
    {
      "cell_type": "code",
      "metadata": {
        "id": "I2j0o5qNwWuE",
        "colab_type": "code",
        "colab": {}
      },
      "source": [
        "\n",
        "idade = int(input(\"Entre com a sua idade:\"))\n",
        "nova_idade = idade + 1\n",
        "print(\"No próximo ano você terá: {} anos\".format(nova_idade))"
      ],
      "execution_count": null,
      "outputs": []
    },
    {
      "cell_type": "code",
      "metadata": {
        "id": "n9JOJBDly0ql",
        "colab_type": "code",
        "colab": {}
      },
      "source": [
        "lado_a = 35\n",
        "lado_b = 14.33333\n",
        "area_do_retangulo = (lado_a)*(lado_b)\n",
        "print('O retângulo de lado A = %d e lado B = %.2f é %.3f' % (lado_a,lado_b,area_do_retangulo))"
      ],
      "execution_count": null,
      "outputs": []
    },
    {
      "cell_type": "code",
      "metadata": {
        "id": "EwUR9hvty-8A",
        "colab_type": "code",
        "colab": {}
      },
      "source": [
        "lista_1 = [1, 2, 'IGTI']\n",
        "lista_2 = [2, 3, \"Bootcamp\"]\n",
        "lista_3 = lista_1 + lista_2\n",
        "print(lista_3)"
      ],
      "execution_count": null,
      "outputs": []
    },
    {
      "cell_type": "code",
      "metadata": {
        "id": "r0LWZfhzzDMl",
        "colab_type": "code",
        "colab": {}
      },
      "source": [
        "chute = int(input('Entre com um valor inteiro de 0 a 30: '))\n",
        "adivinhacao = [5, 6, 10, 14, 16, 20, 30]\n",
        "if chute in adivinhacao:\n",
        "    print('Você acertou um dos números que eu estava pensando.')\n",
        "\n",
        "    if chute > 15:\n",
        "        print('Esse número é maior do que 20.')\n",
        "\n",
        "    if chute < 20:\n",
        "        print('Esse número é menor do que 20.')\n",
        "\n",
        "    print('Você é fera.')\n",
        "else:\n",
        "    print('Que pena, você errou. Pode tentar outra vez.')\n",
        "print('Obrigado por participar.')"
      ],
      "execution_count": null,
      "outputs": []
    },
    {
      "cell_type": "code",
      "metadata": {
        "id": "4giMedOCzOcf",
        "colab_type": "code",
        "colab": {}
      },
      "source": [
        "frutas = [\"maça\", \"banana\", \"uva\", \"goiaba\"]\n",
        "for x in frutas:\n",
        "    if x == \"uva\":\n",
        "        break\n",
        "    print(x)"
      ],
      "execution_count": null,
      "outputs": []
    },
    {
      "cell_type": "code",
      "metadata": {
        "id": "jPQqoLGLzStE",
        "colab_type": "code",
        "colab": {}
      },
      "source": [
        "n = 5\n",
        "while n >= 0:\n",
        "    n -= 1\n",
        "    print(n)"
      ],
      "execution_count": null,
      "outputs": []
    }
  ]
}