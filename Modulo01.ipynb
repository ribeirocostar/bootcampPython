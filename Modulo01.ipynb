{
  "nbformat": 4,
  "nbformat_minor": 0,
  "metadata": {
    "colab": {
      "name": "Modulo01",
      "provenance": [],
      "authorship_tag": "ABX9TyPk9J6DASuzPau29TSMu/2o",
      "include_colab_link": true
    },
    "kernelspec": {
      "name": "python3",
      "display_name": "Python 3"
    }
  },
  "cells": [
    {
      "cell_type": "markdown",
      "metadata": {
        "id": "view-in-github",
        "colab_type": "text"
      },
      "source": [
        "<a href=\"https://colab.research.google.com/github/lrcamargo/bootcamp_python/blob/master/Modulo01.ipynb\" target=\"_parent\"><img src=\"https://colab.research.google.com/assets/colab-badge.svg\" alt=\"Open In Colab\"/></a>"
      ]
    },
    {
      "cell_type": "markdown",
      "metadata": {
        "id": "CGdBT4nDTEsJ",
        "colab_type": "text"
      },
      "source": [
        "Aula 1.2"
      ]
    },
    {
      "cell_type": "code",
      "metadata": {
        "id": "HvOfbdpYTAw9",
        "colab_type": "code",
        "colab": {
          "base_uri": "https://localhost:8080/",
          "height": 34
        },
        "outputId": "aae6db15-c612-4de2-ef67-f9bcd9bedc63"
      },
      "source": [
        "print(\"Olá, mundo!\")"
      ],
      "execution_count": 4,
      "outputs": [
        {
          "output_type": "stream",
          "text": [
            "Olá, mundo!\n"
          ],
          "name": "stdout"
        }
      ]
    },
    {
      "cell_type": "markdown",
      "metadata": {
        "id": "ATO89tEAS8w0",
        "colab_type": "text"
      },
      "source": [
        "Aula 1.3"
      ]
    },
    {
      "cell_type": "code",
      "metadata": {
        "id": "ddweupaLfnZ7",
        "colab_type": "code",
        "colab": {
          "base_uri": "https://localhost:8080/",
          "height": 34
        },
        "outputId": "eeaec0dd-93ea-4af7-9c35-0dd66178b3e1"
      },
      "source": [
        "b=3\n",
        "c=4\n",
        "a2=(b**2)+(c**2)\n",
        "print(a2)"
      ],
      "execution_count": 1,
      "outputs": [
        {
          "output_type": "stream",
          "text": [
            "25\n"
          ],
          "name": "stdout"
        }
      ]
    },
    {
      "cell_type": "code",
      "metadata": {
        "id": "J5JUfKF9SW-s",
        "colab_type": "code",
        "colab": {
          "base_uri": "https://localhost:8080/",
          "height": 34
        },
        "outputId": "53f98d39-1325-4cc1-ed0e-53edd21d0107"
      },
      "source": [
        "print(\"O valor da hipotenusa é: \", a2**0.5)"
      ],
      "execution_count": 3,
      "outputs": [
        {
          "output_type": "stream",
          "text": [
            "O valor da hipotenusa é:  5.0\n"
          ],
          "name": "stdout"
        }
      ]
    },
    {
      "cell_type": "markdown",
      "metadata": {
        "id": "FzYJVrmNUdM2",
        "colab_type": "text"
      },
      "source": [
        "Aula 1.4"
      ]
    },
    {
      "cell_type": "code",
      "metadata": {
        "id": "qUiMw7yKUgDp",
        "colab_type": "code",
        "colab": {
          "base_uri": "https://localhost:8080/",
          "height": 34
        },
        "outputId": "5dd24f53-927b-44cf-b756-0ccba9442afe"
      },
      "source": [
        "#atribuição de valores\n",
        "#<identificador>=<expressão>\n",
        "cateto_a=4\n",
        "endereco=id(cateto_a)\n",
        "print(endereco)"
      ],
      "execution_count": 5,
      "outputs": [
        {
          "output_type": "stream",
          "text": [
            "10914592\n"
          ],
          "name": "stdout"
        }
      ]
    },
    {
      "cell_type": "code",
      "metadata": {
        "id": "t3YPd-hqVZYh",
        "colab_type": "code",
        "colab": {
          "base_uri": "https://localhost:8080/",
          "height": 34
        },
        "outputId": "8304f778-4d54-4bd1-bed9-7158b785aac8"
      },
      "source": [
        "hexa_endereco=hex(endereco)\n",
        "print(hexa_endereco)"
      ],
      "execution_count": 6,
      "outputs": [
        {
          "output_type": "stream",
          "text": [
            "0xa68b20\n"
          ],
          "name": "stdout"
        }
      ]
    },
    {
      "cell_type": "markdown",
      "metadata": {
        "id": "kxBDEExEVfxq",
        "colab_type": "text"
      },
      "source": [
        "cateto_a -> 0xa68b2 -> 4"
      ]
    },
    {
      "cell_type": "code",
      "metadata": {
        "id": "lWyIGLlRVkBc",
        "colab_type": "code",
        "colab": {
          "base_uri": "https://localhost:8080/",
          "height": 51
        },
        "outputId": "d433f96c-b9de-4e2e-e605-799d8e0b6ba8"
      },
      "source": [
        "#a=10\n",
        "a=10\n",
        "print(a)\n",
        "print(id(a))"
      ],
      "execution_count": 7,
      "outputs": [
        {
          "output_type": "stream",
          "text": [
            "10\n",
            "10914784\n"
          ],
          "name": "stdout"
        }
      ]
    },
    {
      "cell_type": "markdown",
      "metadata": {
        "id": "B9_uAGVzVsSi",
        "colab_type": "text"
      },
      "source": [
        "Variável = a --Referencia--> Objeto = 10"
      ]
    },
    {
      "cell_type": "code",
      "metadata": {
        "id": "czQ1yCpKV6t0",
        "colab_type": "code",
        "colab": {
          "base_uri": "https://localhost:8080/",
          "height": 51
        },
        "outputId": "d8ce99ce-8a4c-4125-8745-9be925ff9c99"
      },
      "source": [
        "b = 10\n",
        "print(b)\n",
        "print(id(b))"
      ],
      "execution_count": 8,
      "outputs": [
        {
          "output_type": "stream",
          "text": [
            "10\n",
            "10914784\n"
          ],
          "name": "stdout"
        }
      ]
    },
    {
      "cell_type": "code",
      "metadata": {
        "id": "_w96ys-oWVjW",
        "colab_type": "code",
        "colab": {
          "base_uri": "https://localhost:8080/",
          "height": 34
        },
        "outputId": "93be09e9-ca12-41b6-a56e-6b764333071d"
      },
      "source": [
        "#verificando se os id de a e b são os mesmos\n",
        "id(a) == id(b)"
      ],
      "execution_count": 9,
      "outputs": [
        {
          "output_type": "execute_result",
          "data": {
            "text/plain": [
              "True"
            ]
          },
          "metadata": {
            "tags": []
          },
          "execution_count": 9
        }
      ]
    },
    {
      "cell_type": "code",
      "metadata": {
        "id": "10W5NF5JZfup",
        "colab_type": "code",
        "colab": {
          "base_uri": "https://localhost:8080/",
          "height": 51
        },
        "outputId": "c5e009b7-cd5a-44df-971e-eb9f0791a3a5"
      },
      "source": [
        "a = 10\n",
        "b = a\n",
        "print(a)\n",
        "print(b)"
      ],
      "execution_count": 10,
      "outputs": [
        {
          "output_type": "stream",
          "text": [
            "10\n",
            "10\n"
          ],
          "name": "stdout"
        }
      ]
    },
    {
      "cell_type": "code",
      "metadata": {
        "id": "Spsz3uocZttq",
        "colab_type": "code",
        "colab": {
          "base_uri": "https://localhost:8080/",
          "height": 34
        },
        "outputId": "e36b1908-a990-4016-81ee-96144d630b81"
      },
      "source": [
        "id(a) == id(b)"
      ],
      "execution_count": 11,
      "outputs": [
        {
          "output_type": "execute_result",
          "data": {
            "text/plain": [
              "True"
            ]
          },
          "metadata": {
            "tags": []
          },
          "execution_count": 11
        }
      ]
    },
    {
      "cell_type": "code",
      "metadata": {
        "id": "83WlHYKOZzcj",
        "colab_type": "code",
        "colab": {
          "base_uri": "https://localhost:8080/",
          "height": 85
        },
        "outputId": "1b3c515f-671c-4c79-c8b5-cf8ae89e40f6"
      },
      "source": [
        "a = 10\n",
        "b = 10\n",
        "print(a)\n",
        "print(b)\n",
        "id(a) == id(b)\n",
        "b=30\n",
        "print(b)\n",
        "id(a) == id(b)"
      ],
      "execution_count": 19,
      "outputs": [
        {
          "output_type": "stream",
          "text": [
            "10\n",
            "10\n",
            "30\n"
          ],
          "name": "stdout"
        },
        {
          "output_type": "execute_result",
          "data": {
            "text/plain": [
              "False"
            ]
          },
          "metadata": {
            "tags": []
          },
          "execution_count": 19
        }
      ]
    },
    {
      "cell_type": "code",
      "metadata": {
        "id": "OKYG5XkdaPuN",
        "colab_type": "code",
        "colab": {
          "base_uri": "https://localhost:8080/",
          "height": 34
        },
        "outputId": "0da65df1-7fb0-4f8a-dab9-2489ce6719dd"
      },
      "source": [
        "#atribuição de valores\n",
        "x=1\n",
        "endereco=id(x)\n",
        "print(hex(endereco))"
      ],
      "execution_count": 20,
      "outputs": [
        {
          "output_type": "stream",
          "text": [
            "0xa68ac0\n"
          ],
          "name": "stdout"
        }
      ]
    },
    {
      "cell_type": "code",
      "metadata": {
        "id": "Fm1KyAPSa898",
        "colab_type": "code",
        "colab": {
          "base_uri": "https://localhost:8080/",
          "height": 34
        },
        "outputId": "944dcb61-22c9-4ec1-c093-dd3ed4f9f8f1"
      },
      "source": [
        "#atribuindo valores\n",
        "x=x+1\n",
        "endereco=id(x)\n",
        "print(hex(endereco))"
      ],
      "execution_count": 21,
      "outputs": [
        {
          "output_type": "stream",
          "text": [
            "0xa68ae0\n"
          ],
          "name": "stdout"
        }
      ]
    }
  ]
}